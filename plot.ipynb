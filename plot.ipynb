{
 "cells": [
  {
   "cell_type": "code",
   "execution_count": 2,
   "id": "c4dfa1c3-2347-46f0-9b48-2ccb9dbae852",
   "metadata": {},
   "outputs": [],
   "source": [
    "import pandas as pd\n",
    "import numpy as np\n",
    "import random\n",
    "from plotly.offline import download_plotlyjs, init_notebook_mode, plot, iplot\n",
    "import plotly.graph_objs as go\n",
    "from collections import Counter"
   ]
  },
  {
   "cell_type": "code",
   "execution_count": 3,
   "id": "04158651-097b-44c8-8440-f30b3957a8cd",
   "metadata": {},
   "outputs": [
    {
     "name": "stdout",
     "output_type": "stream",
     "text": [
      "(21892, 188)\n",
      "Counter({np.float64(0.0): 18118, np.float64(4.0): 1608, np.float64(2.0): 1448, np.float64(1.0): 556, np.float64(3.0): 162})\n"
     ]
    }
   ],
   "source": [
    "df = pd.read_csv(\"input/mitbih_test.csv\", header=None)\n",
    "print(df.shape)\n",
    "print(Counter(df[187].values))"
   ]
  },
  {
   "cell_type": "code",
   "execution_count": 4,
   "id": "704b096c-ed60-4d9e-a0d3-92b13b9dba01",
   "metadata": {},
   "outputs": [],
   "source": [
    "Y = np.array(df[187].values).astype(np.int8)\n",
    "X = np.array(df[list(range(187))].values)\n",
    "indexes = random.sample(list(range(df.shape[0])), 10)"
   ]
  },
  {
   "cell_type": "code",
   "execution_count": 5,
   "id": "cdb24145-d329-45eb-902c-0210df7ec571",
   "metadata": {},
   "outputs": [],
   "source": [
    "for i in indexes:\n",
    "    data = [go.Scatter(\n",
    "              x=list(range(187)),\n",
    "              y=X[i, :])]\n",
    "    plot({\"data\": data,\n",
    "          \"layout\": {\"title\": \"Heartbeat Class : %s \"%Y[i]}}, filename='%s.html'%i)"
   ]
  },
  {
   "cell_type": "code",
   "execution_count": null,
   "id": "36045a6e-20f0-498d-a488-cee33d550772",
   "metadata": {},
   "outputs": [],
   "source": []
  }
 ],
 "metadata": {
  "kernelspec": {
   "display_name": "Python 3 (ipykernel)",
   "language": "python",
   "name": "python3"
  },
  "language_info": {
   "codemirror_mode": {
    "name": "ipython",
    "version": 3
   },
   "file_extension": ".py",
   "mimetype": "text/x-python",
   "name": "python",
   "nbconvert_exporter": "python",
   "pygments_lexer": "ipython3",
   "version": "3.11.4"
  }
 },
 "nbformat": 4,
 "nbformat_minor": 5
}
